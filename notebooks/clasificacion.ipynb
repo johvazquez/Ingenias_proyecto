{
 "cells": [
  {
   "cell_type": "code",
   "execution_count": 3,
   "metadata": {},
   "outputs": [],
   "source": [
    "#Importamos las librerías necesarias\n",
    "import pandas as pd\n",
    "import numpy as np\n",
    "import matplotlib.pyplot as plt\n",
    "import seaborn as sns\n",
    "from scipy import stats\n",
    "import folium\n",
    "from geopy.geocoders import Nominatim\n",
    "import time\n",
    "import statsmodels.api as sm\n",
    "from sklearn.model_selection import train_test_split\n",
    "from statsmodels.tsa.seasonal import seasonal_decompose\n",
    "from sklearn.preprocessing import LabelEncoder, StandardScaler\n",
    "from sklearn.model_selection import cross_val_score\n",
    "from sklearn.metrics import classification_report, confusion_matrix\n",
    "from sklearn.ensemble import RandomForestClassifier  # Ejemplo de modelo\n",
    "from sklearn.linear_model import LinearRegression\n",
    "from sklearn.metrics import mean_squared_error, r2_score\n",
    "from sklearn.ensemble import RandomForestClassifier\n",
    "from sklearn.metrics import accuracy_score, precision_score, recall_score, f1_score, confusion_matrix\n",
    "from sklearn.linear_model import LogisticRegression\n",
    "import pandas as pd\n",
    "from sklearn.ensemble import RandomForestRegressor\n",
    "from sklearn.metrics import mean_absolute_error\n",
    "from sklearn.ensemble import RandomForestRegressor\n",
    "from sklearn.ensemble import RandomForestRegressor\n",
    "from sklearn.preprocessing import LabelEncoder, OneHotEncoder\n",
    "from sklearn.compose import ColumnTransformer\n",
    "\n"
   ]
  },
  {
   "cell_type": "code",
   "execution_count": 4,
   "metadata": {},
   "outputs": [],
   "source": [
    "pp = pd.read_csv('C:\\\\Users\\\\jvazquez1\\\\Desktop\\\\proyecto_data\\\\Ingenias_proyecto\\\\datos\\\\pp.csv', sep=';', encoding='utf-8', low_memory=False)"
   ]
  },
  {
   "cell_type": "code",
   "execution_count": 5,
   "metadata": {},
   "outputs": [
    {
     "data": {
      "text/html": [
       "<div>\n",
       "<style scoped>\n",
       "    .dataframe tbody tr th:only-of-type {\n",
       "        vertical-align: middle;\n",
       "    }\n",
       "\n",
       "    .dataframe tbody tr th {\n",
       "        vertical-align: top;\n",
       "    }\n",
       "\n",
       "    .dataframe thead th {\n",
       "        text-align: right;\n",
       "    }\n",
       "</style>\n",
       "<table border=\"1\" class=\"dataframe\">\n",
       "  <thead>\n",
       "    <tr style=\"text-align: right;\">\n",
       "      <th></th>\n",
       "      <th>Row type</th>\n",
       "      <th>Advertiser</th>\n",
       "      <th>Advertiser code</th>\n",
       "      <th>Agent</th>\n",
       "      <th>Agent code</th>\n",
       "      <th>Invoice number</th>\n",
       "      <th>Product</th>\n",
       "      <th>Month</th>\n",
       "      <th>Year</th>\n",
       "      <th>Recipient</th>\n",
       "      <th>...</th>\n",
       "      <th>Exchange rate</th>\n",
       "      <th>Invoice amount gross home currency</th>\n",
       "      <th>Invoice amount net home currency</th>\n",
       "      <th>Contract amount home currency</th>\n",
       "      <th>Deal value home currency</th>\n",
       "      <th>Invoice ID</th>\n",
       "      <th>Deal Status</th>\n",
       "      <th>Invoice Type</th>\n",
       "      <th>Invoice Status</th>\n",
       "      <th>Discount amount</th>\n",
       "    </tr>\n",
       "  </thead>\n",
       "  <tbody>\n",
       "    <tr>\n",
       "      <th>0</th>\n",
       "      <td>Contract transmission</td>\n",
       "      <td>S.A. La Nacion</td>\n",
       "      <td>A08009</td>\n",
       "      <td>ZenithOptimedia Group Argentina S.A</td>\n",
       "      <td>B02803</td>\n",
       "      <td>2019DC000780</td>\n",
       "      <td>Opcionales</td>\n",
       "      <td>9</td>\n",
       "      <td>2019</td>\n",
       "      <td>ZenithOptimedia Group Argentina S.A</td>\n",
       "      <td>...</td>\n",
       "      <td>5.986.232</td>\n",
       "      <td>251.44</td>\n",
       "      <td>120.75</td>\n",
       "      <td>156</td>\n",
       "      <td>11693.5</td>\n",
       "      <td>1708.0</td>\n",
       "      <td>Approved</td>\n",
       "      <td>Debit</td>\n",
       "      <td>Exported</td>\n",
       "      <td>0</td>\n",
       "    </tr>\n",
       "    <tr>\n",
       "      <th>1</th>\n",
       "      <td>Contract transmission</td>\n",
       "      <td>Arcor S.A.I.C.</td>\n",
       "      <td>A07784</td>\n",
       "      <td>ZenithOptimedia Group Argentina S.A</td>\n",
       "      <td>B02803</td>\n",
       "      <td>2019DC000683</td>\n",
       "      <td>Mogul</td>\n",
       "      <td>9</td>\n",
       "      <td>2019</td>\n",
       "      <td>ZenithOptimedia Group Argentina S.A</td>\n",
       "      <td>...</td>\n",
       "      <td>5.986.232</td>\n",
       "      <td>131.46</td>\n",
       "      <td>79.14</td>\n",
       "      <td>82</td>\n",
       "      <td>12365.66</td>\n",
       "      <td>1611.0</td>\n",
       "      <td>Approved</td>\n",
       "      <td>Debit</td>\n",
       "      <td>Exported</td>\n",
       "      <td>0</td>\n",
       "    </tr>\n",
       "    <tr>\n",
       "      <th>2</th>\n",
       "      <td>Contract transmission</td>\n",
       "      <td>Arcor S.A.I.C.</td>\n",
       "      <td>A07784</td>\n",
       "      <td>ZenithOptimedia Group Argentina S.A</td>\n",
       "      <td>B02803</td>\n",
       "      <td>2019DC000684</td>\n",
       "      <td>Mogul</td>\n",
       "      <td>9</td>\n",
       "      <td>2019</td>\n",
       "      <td>ZenithOptimedia Group Argentina S.A</td>\n",
       "      <td>...</td>\n",
       "      <td>5.986.232</td>\n",
       "      <td>57.2</td>\n",
       "      <td>34.42</td>\n",
       "      <td>35</td>\n",
       "      <td>12365.66</td>\n",
       "      <td>1612.0</td>\n",
       "      <td>Approved</td>\n",
       "      <td>Debit</td>\n",
       "      <td>Exported</td>\n",
       "      <td>0</td>\n",
       "    </tr>\n",
       "    <tr>\n",
       "      <th>3</th>\n",
       "      <td>Contract transmission</td>\n",
       "      <td>Arcor S.A.I.C.</td>\n",
       "      <td>A07784</td>\n",
       "      <td>ZenithOptimedia Group Argentina S.A</td>\n",
       "      <td>B02803</td>\n",
       "      <td>2019DC000685</td>\n",
       "      <td>Mogul</td>\n",
       "      <td>9</td>\n",
       "      <td>2019</td>\n",
       "      <td>ZenithOptimedia Group Argentina S.A</td>\n",
       "      <td>...</td>\n",
       "      <td>5.986.232</td>\n",
       "      <td>39.9</td>\n",
       "      <td>24.01</td>\n",
       "      <td>25</td>\n",
       "      <td>12365.66</td>\n",
       "      <td>1613.0</td>\n",
       "      <td>Approved</td>\n",
       "      <td>Debit</td>\n",
       "      <td>Exported</td>\n",
       "      <td>0</td>\n",
       "    </tr>\n",
       "    <tr>\n",
       "      <th>4</th>\n",
       "      <td>Contract transmission</td>\n",
       "      <td>Arcor S.A.I.C.</td>\n",
       "      <td>A07784</td>\n",
       "      <td>ZenithOptimedia Group Argentina S.A</td>\n",
       "      <td>B02803</td>\n",
       "      <td>2019DC000686</td>\n",
       "      <td>Mogul</td>\n",
       "      <td>9</td>\n",
       "      <td>2019</td>\n",
       "      <td>ZenithOptimedia Group Argentina S.A</td>\n",
       "      <td>...</td>\n",
       "      <td>5.986.232</td>\n",
       "      <td>146.46</td>\n",
       "      <td>88.23</td>\n",
       "      <td>91</td>\n",
       "      <td>12365.66</td>\n",
       "      <td>1614.0</td>\n",
       "      <td>Approved</td>\n",
       "      <td>Debit</td>\n",
       "      <td>Exported</td>\n",
       "      <td>0</td>\n",
       "    </tr>\n",
       "  </tbody>\n",
       "</table>\n",
       "<p>5 rows × 46 columns</p>\n",
       "</div>"
      ],
      "text/plain": [
       "                Row type      Advertiser Advertiser code  \\\n",
       "0  Contract transmission  S.A. La Nacion          A08009   \n",
       "1  Contract transmission  Arcor S.A.I.C.          A07784   \n",
       "2  Contract transmission  Arcor S.A.I.C.          A07784   \n",
       "3  Contract transmission  Arcor S.A.I.C.          A07784   \n",
       "4  Contract transmission  Arcor S.A.I.C.          A07784   \n",
       "\n",
       "                                 Agent Agent code Invoice number     Product  \\\n",
       "0  ZenithOptimedia Group Argentina S.A     B02803   2019DC000780  Opcionales   \n",
       "1  ZenithOptimedia Group Argentina S.A     B02803   2019DC000683       Mogul   \n",
       "2  ZenithOptimedia Group Argentina S.A     B02803   2019DC000684       Mogul   \n",
       "3  ZenithOptimedia Group Argentina S.A     B02803   2019DC000685       Mogul   \n",
       "4  ZenithOptimedia Group Argentina S.A     B02803   2019DC000686       Mogul   \n",
       "\n",
       "   Month  Year                            Recipient  ... Exchange rate  \\\n",
       "0      9  2019  ZenithOptimedia Group Argentina S.A  ...     5.986.232   \n",
       "1      9  2019  ZenithOptimedia Group Argentina S.A  ...     5.986.232   \n",
       "2      9  2019  ZenithOptimedia Group Argentina S.A  ...     5.986.232   \n",
       "3      9  2019  ZenithOptimedia Group Argentina S.A  ...     5.986.232   \n",
       "4      9  2019  ZenithOptimedia Group Argentina S.A  ...     5.986.232   \n",
       "\n",
       "  Invoice amount gross home currency Invoice amount net home currency  \\\n",
       "0                             251.44                           120.75   \n",
       "1                             131.46                            79.14   \n",
       "2                               57.2                            34.42   \n",
       "3                               39.9                            24.01   \n",
       "4                             146.46                            88.23   \n",
       "\n",
       "   Contract amount home currency Deal value home currency Invoice ID  \\\n",
       "0                            156                  11693.5     1708.0   \n",
       "1                             82                 12365.66     1611.0   \n",
       "2                             35                 12365.66     1612.0   \n",
       "3                             25                 12365.66     1613.0   \n",
       "4                             91                 12365.66     1614.0   \n",
       "\n",
       "  Deal Status Invoice Type  Invoice Status Discount amount  \n",
       "0    Approved        Debit        Exported               0  \n",
       "1    Approved        Debit        Exported               0  \n",
       "2    Approved        Debit        Exported               0  \n",
       "3    Approved        Debit        Exported               0  \n",
       "4    Approved        Debit        Exported               0  \n",
       "\n",
       "[5 rows x 46 columns]"
      ]
     },
     "execution_count": 5,
     "metadata": {},
     "output_type": "execute_result"
    }
   ],
   "source": [
    "# Leemos nuevamente los datos\n",
    "pp.head()"
   ]
  },
  {
   "cell_type": "code",
   "execution_count": 6,
   "metadata": {},
   "outputs": [
    {
     "data": {
      "text/plain": [
       "Row type                                  0\n",
       "Advertiser                                0\n",
       "Advertiser code                           0\n",
       "Agent                                     0\n",
       "Agent code                                0\n",
       "Invoice number                          947\n",
       "Product                                   0\n",
       "Month                                     0\n",
       "Year                                      0\n",
       "Recipient                                 0\n",
       "Contract                                  0\n",
       "Invoice amount gross                      0\n",
       " Commission amount                        0\n",
       "Invoice amount net                        0\n",
       "Channel                                   0\n",
       "Channel code                              0\n",
       "Item start date                           0\n",
       "Item end date                             0\n",
       "SAP code                                  0\n",
       "Contract status                        3723\n",
       "Invoice amount total                      0\n",
       "Invoice date                            947\n",
       "Invoice batch number                      0\n",
       "Rep                                    4362\n",
       "Unnamed: 44                           34762\n",
       "Unnamed: 45                           34762\n",
       "Unnamed: 46                           34762\n",
       "Invoice currency                          0\n",
       "Deal                                      0\n",
       "Deal currency                             0\n",
       "Deal value                                0\n",
       "Invoice holding company                   0\n",
       "Sales holding company                     0\n",
       "Billing scenario                         12\n",
       "Incentive discount %                      0\n",
       "Incentive discount value                  0\n",
       "Exchange rate                           356\n",
       "Invoice amount gross home currency        0\n",
       "Invoice amount net home currency          0\n",
       "Contract amount home currency             0\n",
       "Deal value home currency                  0\n",
       "Invoice ID                              947\n",
       "Deal Status                               1\n",
       "Invoice Type                            947\n",
       "Invoice Status                          947\n",
       "Discount amount                           0\n",
       "dtype: int64"
      ]
     },
     "execution_count": 6,
     "metadata": {},
     "output_type": "execute_result"
    }
   ],
   "source": [
    "#Antes que nada, chequeemos nuevamente que eliminamos todos los valores faltantes.\n",
    "pp.isnull().sum()"
   ]
  },
  {
   "cell_type": "markdown",
   "metadata": {},
   "source": [
    "¿Qué tipo de problemas estamos tratando de resolver? \n",
    "Desarrollar un modelo predictivo que permita identificar: \n",
    "*patrones de gasto publicitario, \n",
    "*tendencias estacionales \n",
    "*efectividad de los canales de publicidad \n",
    "en función de las variables disponibles en el dataset.\n",
    "\n",
    "Variables:\n",
    "Invoice amount gross= cantidad de dinero gastado en publicidad\n",
    "Channel= canales que más se usan\n",
    "Month y year = fechas que más se publicita"
   ]
  },
  {
   "cell_type": "markdown",
   "metadata": {},
   "source": [
    "REGRESIÓN"
   ]
  },
  {
   "cell_type": "code",
   "execution_count": 7,
   "metadata": {},
   "outputs": [],
   "source": [
    "# Elimino aquellas variables que no quiero incluir en el modelo y las guardo en x. LIMPIEZA\n",
    "x = pp.drop(['Row type', 'Advertiser','Agent','Product', 'Unnamed: 44','Unnamed: 45','Unnamed: 46','Advertiser code','Agent code', 'Invoice number', 'Recipient', 'Contract', 'Channel code', 'Item start date', 'Item end date', 'SAP code', 'Invoice amount total', 'Invoice date', 'Invoice batch number', 'Invoice currency', 'Deal', 'Deal currency', 'Deal value', 'Invoice holding company', 'Sales holding company', 'Billing scenario', 'Incentive discount value', 'Exchange rate', 'Invoice amount gross home currency', 'Invoice amount net home currency', 'Contract amount home currency', 'Deal value home currency', 'Invoice ID', 'Deal Status', 'Invoice Type', 'Invoice Status','Discount amount'], \n",
    "                  axis=1)"
   ]
  },
  {
   "cell_type": "code",
   "execution_count": 8,
   "metadata": {},
   "outputs": [
    {
     "data": {
      "text/html": [
       "<div>\n",
       "<style scoped>\n",
       "    .dataframe tbody tr th:only-of-type {\n",
       "        vertical-align: middle;\n",
       "    }\n",
       "\n",
       "    .dataframe tbody tr th {\n",
       "        vertical-align: top;\n",
       "    }\n",
       "\n",
       "    .dataframe thead th {\n",
       "        text-align: right;\n",
       "    }\n",
       "</style>\n",
       "<table border=\"1\" class=\"dataframe\">\n",
       "  <thead>\n",
       "    <tr style=\"text-align: right;\">\n",
       "      <th></th>\n",
       "      <th>Month</th>\n",
       "      <th>Year</th>\n",
       "      <th>Invoice amount gross</th>\n",
       "      <th>Commission amount</th>\n",
       "      <th>Invoice amount net</th>\n",
       "      <th>Channel</th>\n",
       "      <th>Contract status</th>\n",
       "      <th>Rep</th>\n",
       "      <th>Incentive discount %</th>\n",
       "    </tr>\n",
       "  </thead>\n",
       "  <tbody>\n",
       "    <tr>\n",
       "      <th>0</th>\n",
       "      <td>9</td>\n",
       "      <td>2019</td>\n",
       "      <td>9345</td>\n",
       "      <td>2116.64</td>\n",
       "      <td>7228.36</td>\n",
       "      <td>DLA Home &amp; Health Argentina</td>\n",
       "      <td>Approved</td>\n",
       "      <td>Soledad</td>\n",
       "      <td>9.0</td>\n",
       "    </tr>\n",
       "    <tr>\n",
       "      <th>1</th>\n",
       "      <td>9</td>\n",
       "      <td>2019</td>\n",
       "      <td>4883.76</td>\n",
       "      <td>146.51</td>\n",
       "      <td>4737.25</td>\n",
       "      <td>DLA Discovery Argentina</td>\n",
       "      <td>Approved</td>\n",
       "      <td>Soledad</td>\n",
       "      <td>0.0</td>\n",
       "    </tr>\n",
       "    <tr>\n",
       "      <th>2</th>\n",
       "      <td>9</td>\n",
       "      <td>2019</td>\n",
       "      <td>2124.2</td>\n",
       "      <td>63.73</td>\n",
       "      <td>2060.47</td>\n",
       "      <td>DLA Animal Planet Argentina</td>\n",
       "      <td>Approved</td>\n",
       "      <td>Soledad</td>\n",
       "      <td>0.0</td>\n",
       "    </tr>\n",
       "    <tr>\n",
       "      <th>3</th>\n",
       "      <td>9</td>\n",
       "      <td>2019</td>\n",
       "      <td>1482</td>\n",
       "      <td>44.46</td>\n",
       "      <td>1437.54</td>\n",
       "      <td>DLA TLC Argentina</td>\n",
       "      <td>Approved</td>\n",
       "      <td>Soledad</td>\n",
       "      <td>0.0</td>\n",
       "    </tr>\n",
       "    <tr>\n",
       "      <th>4</th>\n",
       "      <td>9</td>\n",
       "      <td>2019</td>\n",
       "      <td>5445</td>\n",
       "      <td>163.35</td>\n",
       "      <td>5281.65</td>\n",
       "      <td>DLA Discovery ID Argentina</td>\n",
       "      <td>Approved</td>\n",
       "      <td>Soledad</td>\n",
       "      <td>0.0</td>\n",
       "    </tr>\n",
       "  </tbody>\n",
       "</table>\n",
       "</div>"
      ],
      "text/plain": [
       "   Month  Year Invoice amount gross  Commission amount   Invoice amount net  \\\n",
       "0      9  2019                 9345             2116.64             7228.36   \n",
       "1      9  2019              4883.76              146.51             4737.25   \n",
       "2      9  2019               2124.2               63.73             2060.47   \n",
       "3      9  2019                 1482               44.46             1437.54   \n",
       "4      9  2019                 5445              163.35             5281.65   \n",
       "\n",
       "                       Channel Contract status      Rep  Incentive discount %  \n",
       "0  DLA Home & Health Argentina        Approved  Soledad                   9.0  \n",
       "1      DLA Discovery Argentina        Approved  Soledad                   0.0  \n",
       "2  DLA Animal Planet Argentina        Approved  Soledad                   0.0  \n",
       "3            DLA TLC Argentina        Approved  Soledad                   0.0  \n",
       "4   DLA Discovery ID Argentina        Approved  Soledad                   0.0  "
      ]
     },
     "execution_count": 8,
     "metadata": {},
     "output_type": "execute_result"
    }
   ],
   "source": [
    "x.head()"
   ]
  },
  {
   "cell_type": "code",
   "execution_count": 9,
   "metadata": {},
   "outputs": [],
   "source": [
    "lista_atributos = x.columns"
   ]
  },
  {
   "cell_type": "code",
   "execution_count": 29,
   "metadata": {},
   "outputs": [
    {
     "name": "stdout",
     "output_type": "stream",
     "text": [
      "          Nombres       Género\n",
      "0         Soledad        Mujer\n",
      "1       Francisco       Hombre\n",
      "2          Karina        Mujer\n",
      "3           Rocio        Mujer\n",
      "4        Leonardo       Hombre\n",
      "5          Martin       Hombre\n",
      "6          Barter  Desconocido\n",
      "7   Representante  Desconocido\n",
      "8          Daniel       Hombre\n",
      "9           Maria        Mujer\n",
      "10       Ezequiel       Hombre\n",
      "11           José       Hombre\n",
      "12        Marcela        Mujer\n",
      "13        Nicolas       Hombre\n",
      "14         Carina        Mujer\n",
      "15        Eugenia        Mujer\n"
     ]
    }
   ],
   "source": [
    "nombres = [\"Soledad\", \"Francisco\", \"Karina\", \"Rocio\", \"Leonardo\", \"Martin\", \"Barter\", \"Representante\",\n",
    "           \"Daniel\", \"Maria\", \"Ezequiel\", \"José\", \"Marcela\", \"Nicolas\", \"Carina\", \"Eugenia\"]\n",
    "\n",
    "pp = pd.DataFrame({'Nombres': nombres})\n",
    "\n",
    "# Suposiciones sobre el género de los nombres\n",
    "genero = []\n",
    "\n",
    "for nombre in nombres:\n",
    "    if nombre in [\"Karina\", \"Rocio\", \"Maria\", \"Carina\", \"Marcela\", \"Eugenia\", \"Soledad\"]:\n",
    "        genero.append(\"Mujer\")\n",
    "    elif nombre in [\"Francisco\", \"Leonardo\", \"Martin\", \"Ezequiel\", \"Daniel\", \"José\", \"Nicolas\"]:\n",
    "        genero.append(\"Hombre\")\n",
    "    else:\n",
    "        genero.append(\"Desconocido\")\n",
    "\n",
    "# Agregar la columna de género al DataFrame\n",
    "pp['Género'] = genero\n",
    "\n",
    "print(pp)\n"
   ]
  },
  {
   "cell_type": "code",
   "execution_count": 47,
   "metadata": {},
   "outputs": [
    {
     "data": {
      "text/html": [
       "<style>#sk-container-id-1 {color: black;}#sk-container-id-1 pre{padding: 0;}#sk-container-id-1 div.sk-toggleable {background-color: white;}#sk-container-id-1 label.sk-toggleable__label {cursor: pointer;display: block;width: 100%;margin-bottom: 0;padding: 0.3em;box-sizing: border-box;text-align: center;}#sk-container-id-1 label.sk-toggleable__label-arrow:before {content: \"▸\";float: left;margin-right: 0.25em;color: #696969;}#sk-container-id-1 label.sk-toggleable__label-arrow:hover:before {color: black;}#sk-container-id-1 div.sk-estimator:hover label.sk-toggleable__label-arrow:before {color: black;}#sk-container-id-1 div.sk-toggleable__content {max-height: 0;max-width: 0;overflow: hidden;text-align: left;background-color: #f0f8ff;}#sk-container-id-1 div.sk-toggleable__content pre {margin: 0.2em;color: black;border-radius: 0.25em;background-color: #f0f8ff;}#sk-container-id-1 input.sk-toggleable__control:checked~div.sk-toggleable__content {max-height: 200px;max-width: 100%;overflow: auto;}#sk-container-id-1 input.sk-toggleable__control:checked~label.sk-toggleable__label-arrow:before {content: \"▾\";}#sk-container-id-1 div.sk-estimator input.sk-toggleable__control:checked~label.sk-toggleable__label {background-color: #d4ebff;}#sk-container-id-1 div.sk-label input.sk-toggleable__control:checked~label.sk-toggleable__label {background-color: #d4ebff;}#sk-container-id-1 input.sk-hidden--visually {border: 0;clip: rect(1px 1px 1px 1px);clip: rect(1px, 1px, 1px, 1px);height: 1px;margin: -1px;overflow: hidden;padding: 0;position: absolute;width: 1px;}#sk-container-id-1 div.sk-estimator {font-family: monospace;background-color: #f0f8ff;border: 1px dotted black;border-radius: 0.25em;box-sizing: border-box;margin-bottom: 0.5em;}#sk-container-id-1 div.sk-estimator:hover {background-color: #d4ebff;}#sk-container-id-1 div.sk-parallel-item::after {content: \"\";width: 100%;border-bottom: 1px solid gray;flex-grow: 1;}#sk-container-id-1 div.sk-label:hover label.sk-toggleable__label {background-color: #d4ebff;}#sk-container-id-1 div.sk-serial::before {content: \"\";position: absolute;border-left: 1px solid gray;box-sizing: border-box;top: 0;bottom: 0;left: 50%;z-index: 0;}#sk-container-id-1 div.sk-serial {display: flex;flex-direction: column;align-items: center;background-color: white;padding-right: 0.2em;padding-left: 0.2em;position: relative;}#sk-container-id-1 div.sk-item {position: relative;z-index: 1;}#sk-container-id-1 div.sk-parallel {display: flex;align-items: stretch;justify-content: center;background-color: white;position: relative;}#sk-container-id-1 div.sk-item::before, #sk-container-id-1 div.sk-parallel-item::before {content: \"\";position: absolute;border-left: 1px solid gray;box-sizing: border-box;top: 0;bottom: 0;left: 50%;z-index: -1;}#sk-container-id-1 div.sk-parallel-item {display: flex;flex-direction: column;z-index: 1;position: relative;background-color: white;}#sk-container-id-1 div.sk-parallel-item:first-child::after {align-self: flex-end;width: 50%;}#sk-container-id-1 div.sk-parallel-item:last-child::after {align-self: flex-start;width: 50%;}#sk-container-id-1 div.sk-parallel-item:only-child::after {width: 0;}#sk-container-id-1 div.sk-dashed-wrapped {border: 1px dashed gray;margin: 0 0.4em 0.5em 0.4em;box-sizing: border-box;padding-bottom: 0.4em;background-color: white;}#sk-container-id-1 div.sk-label label {font-family: monospace;font-weight: bold;display: inline-block;line-height: 1.2em;}#sk-container-id-1 div.sk-label-container {text-align: center;}#sk-container-id-1 div.sk-container {/* jupyter's `normalize.less` sets `[hidden] { display: none; }` but bootstrap.min.css set `[hidden] { display: none !important; }` so we also need the `!important` here to be able to override the default hidden behavior on the sphinx rendered scikit-learn.org. See: https://github.com/scikit-learn/scikit-learn/issues/21755 */display: inline-block !important;position: relative;}#sk-container-id-1 div.sk-text-repr-fallback {display: none;}</style><div id=\"sk-container-id-1\" class=\"sk-top-container\"><div class=\"sk-text-repr-fallback\"><pre>RandomForestRegressor()</pre><b>In a Jupyter environment, please rerun this cell to show the HTML representation or trust the notebook. <br />On GitHub, the HTML representation is unable to render, please try loading this page with nbviewer.org.</b></div><div class=\"sk-container\" hidden><div class=\"sk-item\"><div class=\"sk-estimator sk-toggleable\"><input class=\"sk-toggleable__control sk-hidden--visually\" id=\"sk-estimator-id-1\" type=\"checkbox\" checked><label for=\"sk-estimator-id-1\" class=\"sk-toggleable__label sk-toggleable__label-arrow\">RandomForestRegressor</label><div class=\"sk-toggleable__content\"><pre>RandomForestRegressor()</pre></div></div></div></div></div>"
      ],
      "text/plain": [
       "RandomForestRegressor()"
      ]
     },
     "execution_count": 47,
     "metadata": {},
     "output_type": "execute_result"
    }
   ],
   "source": [
    "import pandas as pd\n",
    "from sklearn.model_selection import train_test_split\n",
    "from sklearn.ensemble import RandomForestRegressor\n",
    "from sklearn.preprocessing import LabelEncoder\n",
    "\n",
    "# Crear un DataFrame con la columna 'Channel' que contiene los canales\n",
    "data = {\n",
    "    'Channel': [\n",
    "        'DLA Home & Health Argentina',\n",
    "        'DLA Discovery Argentina',\n",
    "        'DLA Animal Planet Argentina',\n",
    "        'DLA TLC Argentina',\n",
    "        'DLA Discovery ID Argentina',\n",
    "        'DLA Discovery Kids Argentina',\n",
    "        'DLA Discovery Kids Brazil',\n",
    "        'DLA Disc Turbo Latin',\n",
    "        'DLA Food Network Latin',\n",
    "        'DLA TLC Latin',\n",
    "        'DLA Discovery ID Latin',\n",
    "        'DLA Animal Planet Latin',\n",
    "        'DLA Discovery Venezuela Chile',\n",
    "        'DLA Home & Health Venezuela Chile',\n",
    "        'DLA Discovery Mexico',\n",
    "        'DLA Animal Planet Mexico',\n",
    "        'DLA Discovery ID Mexico',\n",
    "        'DLA TLC Mexico',\n",
    "        'DLA Discovery Latin',\n",
    "        'DLA Home & Health Latin',\n",
    "        'DLA TLC Brazil',\n",
    "        'DLA Home & Health Brazil',\n",
    "        'DLA Discovery ID Brazil',\n",
    "        'DLA Discovery Brazil',\n",
    "        'DLA Animal Planet Brazil',\n",
    "        'DLA Discovery Kids Latin',\n",
    "        'Golf Channel Latin',\n",
    "        'DLA HGTV Latin',\n",
    "        'DLA Discovery Kids Chile',\n",
    "        'DLA Home & Health Mexico'\n",
    "    ]\n",
    "}\n",
    "\n",
    "pp = pd.DataFrame(data)\n",
    "\n",
    "# Crear una instancia de LabelEncoder\n",
    "encoder = LabelEncoder()\n",
    "\n",
    "# Codificar la columna 'Channel' en formato numérico\n",
    "pp['Channel_encoded'] = encoder.fit_transform(pp['Channel'])\n",
    "\n",
    "# Asegurarse de seleccionar las características adecuadas y el objetivo (X y y)\n",
    "X = pp.drop(['Channel'], axis=1)\n",
    "y = pp['Channel_encoded']\n",
    "\n",
    "# Dividir los datos en conjuntos de entrenamiento y prueba\n",
    "X_train, X_test, y_train, y_test = train_test_split(X, y, test_size=0.2, random_state=42)\n",
    "\n",
    "# Crear y ajustar un modelo de regresión, por ejemplo, RandomForestRegressor\n",
    "regresor = RandomForestRegressor()\n",
    "regresor.fit(X_train, y_train)\n",
    "\n"
   ]
  },
  {
   "cell_type": "code",
   "execution_count": 44,
   "metadata": {},
   "outputs": [
    {
     "name": "stdout",
     "output_type": "stream",
     "text": [
      "{'Contract_status_encoded': [0, 1, 7, 4, 3, 8, 5, 2, 6], 'Contract_status_Approved': [True, False, False, False, False, False, False, False, False], 'Contract_status_Cancelled': [False, True, False, False, False, False, False, False, False], 'Contract_status_Completed': [False, False, False, False, False, False, False, True, False], 'Contract_status_In Process': [False, False, False, False, True, False, False, False, False], 'Contract_status_Missing Copy': [False, False, False, True, False, False, False, False, False], 'Contract_status_Rejected': [False, False, False, False, False, False, True, False, False], 'Contract_status_Revision Rejected': [False, False, False, False, False, False, False, False, True], 'Contract_status_Tiempo Oportuno Revision': [False, False, True, False, False, False, False, False, False], 'Contract_status_Ultima Hora Revision': [False, False, False, False, False, True, False, False, False]}\n"
     ]
    }
   ],
   "source": [
    "import pandas as pd\n",
    "\n",
    "# Supongamos que 'pp' es tu DataFrame con los datos\n",
    "# Crear una copia del DataFrame para evitar modificar el original\n",
    "pp_encoded = pp.copy()\n",
    "\n",
    "# Aplicar la codificación one-hot a la columna 'Contract status'\n",
    "pp_encoded = pd.get_dummies(pp_encoded, columns=['Contract status'], prefix='Contract_status')\n",
    "\n",
    "# Obtener un diccionario a partir de las columnas codificadas\n",
    "contract_status_dict = pp_encoded.filter(like='Contract_status_').to_dict(orient='list')\n",
    "\n",
    "# El diccionario contendrá las categorías como claves y una lista de 0s y 1s como valores\n",
    "print(contract_status_dict)\n"
   ]
  },
  {
   "cell_type": "code",
   "execution_count": 10,
   "metadata": {},
   "outputs": [],
   "source": [
    "# Ahora selecciono las etiquetas y las guardo en y. OK\n",
    "\n",
    "y = pp['Invoice amount gross']"
   ]
  },
  {
   "cell_type": "code",
   "execution_count": 11,
   "metadata": {},
   "outputs": [],
   "source": [
    "x, y = np.array(x), np.array(y)"
   ]
  },
  {
   "cell_type": "code",
   "execution_count": 12,
   "metadata": {},
   "outputs": [
    {
     "data": {
      "text/plain": [
       "array([[9, 2019, '9345', ..., 'Approved', 'Soledad', 9.0],\n",
       "       [9, 2019, '4883.76', ..., 'Approved', 'Soledad', 0.0],\n",
       "       [9, 2019, '2124.2', ..., 'Approved', 'Soledad', 0.0],\n",
       "       ...,\n",
       "       [8, 2023, ' $ -   ', ..., 'Approved', 'Rocio', 0.0],\n",
       "       [8, 2023, ' $ -   ', ..., 'Approved', 'Soledad', 0.0],\n",
       "       [8, 2023, ' $ -   ', ..., 'Approved', 'Soledad', 0.0]],\n",
       "      dtype=object)"
      ]
     },
     "execution_count": 12,
     "metadata": {},
     "output_type": "execute_result"
    }
   ],
   "source": [
    "x"
   ]
  },
  {
   "cell_type": "code",
   "execution_count": 13,
   "metadata": {},
   "outputs": [
    {
     "data": {
      "text/plain": [
       "array(['9345', '4883.76', '2124.2', '1482', '5445', '1294.28', '8519.6',\n",
       "       '129600', '129600', '4416'], dtype=object)"
      ]
     },
     "execution_count": 13,
     "metadata": {},
     "output_type": "execute_result"
    }
   ],
   "source": [
    "y[:10]"
   ]
  },
  {
   "cell_type": "markdown",
   "metadata": {},
   "source": [
    "Separando Train / Test"
   ]
  },
  {
   "cell_type": "code",
   "execution_count": 33,
   "metadata": {},
   "outputs": [],
   "source": [
    "X_train, X_test, y_train, y_test = train_test_split(x, y, test_size=0.2, \n",
    "                                                    random_state=42)"
   ]
  },
  {
   "cell_type": "code",
   "execution_count": 34,
   "metadata": {},
   "outputs": [
    {
     "data": {
      "text/plain": [
       "(34762, 9)"
      ]
     },
     "execution_count": 34,
     "metadata": {},
     "output_type": "execute_result"
    }
   ],
   "source": [
    "x.shape"
   ]
  },
  {
   "cell_type": "code",
   "execution_count": 35,
   "metadata": {},
   "outputs": [
    {
     "data": {
      "text/plain": [
       "(27809, 9)"
      ]
     },
     "execution_count": 35,
     "metadata": {},
     "output_type": "execute_result"
    }
   ],
   "source": [
    "X_train.shape"
   ]
  },
  {
   "cell_type": "code",
   "execution_count": 36,
   "metadata": {},
   "outputs": [
    {
     "data": {
      "text/plain": [
       "(6953, 9)"
      ]
     },
     "execution_count": 36,
     "metadata": {},
     "output_type": "execute_result"
    }
   ],
   "source": [
    "X_test.shape"
   ]
  },
  {
   "cell_type": "markdown",
   "metadata": {},
   "source": [
    "Random Forest"
   ]
  },
  {
   "cell_type": "code",
   "execution_count": 37,
   "metadata": {},
   "outputs": [],
   "source": [
    "# Inicializo el modelo\n",
    "regresor = RandomForestRegressor(criterion='absolute_error', random_state=42)"
   ]
  },
  {
   "cell_type": "code",
   "execution_count": 48,
   "metadata": {},
   "outputs": [
    {
     "data": {
      "text/html": [
       "<style>#sk-container-id-2 {color: black;}#sk-container-id-2 pre{padding: 0;}#sk-container-id-2 div.sk-toggleable {background-color: white;}#sk-container-id-2 label.sk-toggleable__label {cursor: pointer;display: block;width: 100%;margin-bottom: 0;padding: 0.3em;box-sizing: border-box;text-align: center;}#sk-container-id-2 label.sk-toggleable__label-arrow:before {content: \"▸\";float: left;margin-right: 0.25em;color: #696969;}#sk-container-id-2 label.sk-toggleable__label-arrow:hover:before {color: black;}#sk-container-id-2 div.sk-estimator:hover label.sk-toggleable__label-arrow:before {color: black;}#sk-container-id-2 div.sk-toggleable__content {max-height: 0;max-width: 0;overflow: hidden;text-align: left;background-color: #f0f8ff;}#sk-container-id-2 div.sk-toggleable__content pre {margin: 0.2em;color: black;border-radius: 0.25em;background-color: #f0f8ff;}#sk-container-id-2 input.sk-toggleable__control:checked~div.sk-toggleable__content {max-height: 200px;max-width: 100%;overflow: auto;}#sk-container-id-2 input.sk-toggleable__control:checked~label.sk-toggleable__label-arrow:before {content: \"▾\";}#sk-container-id-2 div.sk-estimator input.sk-toggleable__control:checked~label.sk-toggleable__label {background-color: #d4ebff;}#sk-container-id-2 div.sk-label input.sk-toggleable__control:checked~label.sk-toggleable__label {background-color: #d4ebff;}#sk-container-id-2 input.sk-hidden--visually {border: 0;clip: rect(1px 1px 1px 1px);clip: rect(1px, 1px, 1px, 1px);height: 1px;margin: -1px;overflow: hidden;padding: 0;position: absolute;width: 1px;}#sk-container-id-2 div.sk-estimator {font-family: monospace;background-color: #f0f8ff;border: 1px dotted black;border-radius: 0.25em;box-sizing: border-box;margin-bottom: 0.5em;}#sk-container-id-2 div.sk-estimator:hover {background-color: #d4ebff;}#sk-container-id-2 div.sk-parallel-item::after {content: \"\";width: 100%;border-bottom: 1px solid gray;flex-grow: 1;}#sk-container-id-2 div.sk-label:hover label.sk-toggleable__label {background-color: #d4ebff;}#sk-container-id-2 div.sk-serial::before {content: \"\";position: absolute;border-left: 1px solid gray;box-sizing: border-box;top: 0;bottom: 0;left: 50%;z-index: 0;}#sk-container-id-2 div.sk-serial {display: flex;flex-direction: column;align-items: center;background-color: white;padding-right: 0.2em;padding-left: 0.2em;position: relative;}#sk-container-id-2 div.sk-item {position: relative;z-index: 1;}#sk-container-id-2 div.sk-parallel {display: flex;align-items: stretch;justify-content: center;background-color: white;position: relative;}#sk-container-id-2 div.sk-item::before, #sk-container-id-2 div.sk-parallel-item::before {content: \"\";position: absolute;border-left: 1px solid gray;box-sizing: border-box;top: 0;bottom: 0;left: 50%;z-index: -1;}#sk-container-id-2 div.sk-parallel-item {display: flex;flex-direction: column;z-index: 1;position: relative;background-color: white;}#sk-container-id-2 div.sk-parallel-item:first-child::after {align-self: flex-end;width: 50%;}#sk-container-id-2 div.sk-parallel-item:last-child::after {align-self: flex-start;width: 50%;}#sk-container-id-2 div.sk-parallel-item:only-child::after {width: 0;}#sk-container-id-2 div.sk-dashed-wrapped {border: 1px dashed gray;margin: 0 0.4em 0.5em 0.4em;box-sizing: border-box;padding-bottom: 0.4em;background-color: white;}#sk-container-id-2 div.sk-label label {font-family: monospace;font-weight: bold;display: inline-block;line-height: 1.2em;}#sk-container-id-2 div.sk-label-container {text-align: center;}#sk-container-id-2 div.sk-container {/* jupyter's `normalize.less` sets `[hidden] { display: none; }` but bootstrap.min.css set `[hidden] { display: none !important; }` so we also need the `!important` here to be able to override the default hidden behavior on the sphinx rendered scikit-learn.org. See: https://github.com/scikit-learn/scikit-learn/issues/21755 */display: inline-block !important;position: relative;}#sk-container-id-2 div.sk-text-repr-fallback {display: none;}</style><div id=\"sk-container-id-2\" class=\"sk-top-container\"><div class=\"sk-text-repr-fallback\"><pre>RandomForestRegressor()</pre><b>In a Jupyter environment, please rerun this cell to show the HTML representation or trust the notebook. <br />On GitHub, the HTML representation is unable to render, please try loading this page with nbviewer.org.</b></div><div class=\"sk-container\" hidden><div class=\"sk-item\"><div class=\"sk-estimator sk-toggleable\"><input class=\"sk-toggleable__control sk-hidden--visually\" id=\"sk-estimator-id-2\" type=\"checkbox\" checked><label for=\"sk-estimator-id-2\" class=\"sk-toggleable__label sk-toggleable__label-arrow\">RandomForestRegressor</label><div class=\"sk-toggleable__content\"><pre>RandomForestRegressor()</pre></div></div></div></div></div>"
      ],
      "text/plain": [
       "RandomForestRegressor()"
      ]
     },
     "execution_count": 48,
     "metadata": {},
     "output_type": "execute_result"
    }
   ],
   "source": [
    "# Entreno el modelo\n",
    "regresor.fit(X_train, y_train)"
   ]
  },
  {
   "cell_type": "code",
   "execution_count": 209,
   "metadata": {},
   "outputs": [
    {
     "data": {
      "text/plain": [
       "{'bootstrap': True,\n",
       " 'ccp_alpha': 0.0,\n",
       " 'criterion': 'absolute_error',\n",
       " 'max_depth': None,\n",
       " 'max_features': 1.0,\n",
       " 'max_leaf_nodes': None,\n",
       " 'max_samples': None,\n",
       " 'min_impurity_decrease': 0.0,\n",
       " 'min_samples_leaf': 1,\n",
       " 'min_samples_split': 2,\n",
       " 'min_weight_fraction_leaf': 0.0,\n",
       " 'n_estimators': 100,\n",
       " 'n_jobs': None,\n",
       " 'oob_score': False,\n",
       " 'random_state': 42,\n",
       " 'verbose': 0,\n",
       " 'warm_start': False}"
      ]
     },
     "execution_count": 209,
     "metadata": {},
     "output_type": "execute_result"
    }
   ],
   "source": [
    "regresor.get_params()"
   ]
  },
  {
   "cell_type": "code",
   "execution_count": 49,
   "metadata": {},
   "outputs": [
    {
     "ename": "NameError",
     "evalue": "name 'model' is not defined",
     "output_type": "error",
     "traceback": [
      "\u001b[1;31m---------------------------------------------------------------------------\u001b[0m",
      "\u001b[1;31mNameError\u001b[0m                                 Traceback (most recent call last)",
      "\u001b[1;32mc:\\Users\\jvazquez1\\Desktop\\proyecto_data\\Ingenias_proyecto\\notebooks\\clasificacion.ipynb Cell 26\u001b[0m line \u001b[0;36m2\n\u001b[0;32m      <a href='vscode-notebook-cell:/c%3A/Users/jvazquez1/Desktop/proyecto_data/Ingenias_proyecto/notebooks/clasificacion.ipynb#X32sZmlsZQ%3D%3D?line=0'>1</a>\u001b[0m \u001b[39m# Entrenar el modelo con los datos de entrenamiento preprocesados\u001b[39;00m\n\u001b[1;32m----> <a href='vscode-notebook-cell:/c%3A/Users/jvazquez1/Desktop/proyecto_data/Ingenias_proyecto/notebooks/clasificacion.ipynb#X32sZmlsZQ%3D%3D?line=1'>2</a>\u001b[0m model\u001b[39m.\u001b[39mfit(X_train, y_train)\n\u001b[0;32m      <a href='vscode-notebook-cell:/c%3A/Users/jvazquez1/Desktop/proyecto_data/Ingenias_proyecto/notebooks/clasificacion.ipynb#X32sZmlsZQ%3D%3D?line=3'>4</a>\u001b[0m \u001b[39m# Predigo los valores para el set de testeo usando el modelo ya entrenado\u001b[39;00m\n\u001b[0;32m      <a href='vscode-notebook-cell:/c%3A/Users/jvazquez1/Desktop/proyecto_data/Ingenias_proyecto/notebooks/clasificacion.ipynb#X32sZmlsZQ%3D%3D?line=4'>5</a>\u001b[0m y_pred \u001b[39m=\u001b[39m model\u001b[39m.\u001b[39mpredict(X_test)\n",
      "\u001b[1;31mNameError\u001b[0m: name 'model' is not defined"
     ]
    }
   ],
   "source": [
    "# Entrenar el modelo con los datos de entrenamiento preprocesados\n",
    "model.fit(X_train, y_train)\n",
    "\n",
    "# Predigo los valores para el set de testeo usando el modelo ya entrenado\n",
    "y_pred = model.predict(X_test)"
   ]
  },
  {
   "cell_type": "code",
   "execution_count": 166,
   "metadata": {},
   "outputs": [
    {
     "ename": "NameError",
     "evalue": "name 'y_pred' is not defined",
     "output_type": "error",
     "traceback": [
      "\u001b[1;31m---------------------------------------------------------------------------\u001b[0m",
      "\u001b[1;31mNameError\u001b[0m                                 Traceback (most recent call last)",
      "\u001b[1;32mc:\\Users\\jvazquez1\\Desktop\\proyecto_data\\Ingenias_proyecto\\notebooks\\clasificacion.ipynb Cell 24\u001b[0m line \u001b[0;36m2\n\u001b[0;32m      <a href='vscode-notebook-cell:/c%3A/Users/jvazquez1/Desktop/proyecto_data/Ingenias_proyecto/notebooks/clasificacion.ipynb#X63sZmlsZQ%3D%3D?line=0'>1</a>\u001b[0m \u001b[39m# Calculo el error medio absoluto\u001b[39;00m\n\u001b[1;32m----> <a href='vscode-notebook-cell:/c%3A/Users/jvazquez1/Desktop/proyecto_data/Ingenias_proyecto/notebooks/clasificacion.ipynb#X63sZmlsZQ%3D%3D?line=1'>2</a>\u001b[0m mean_absolute_error(y_test, y_pred)\n",
      "\u001b[1;31mNameError\u001b[0m: name 'y_pred' is not defined"
     ]
    }
   ],
   "source": [
    "# Calculo el error medio absoluto\n",
    "mean_absolute_error(y_test, y_pred)"
   ]
  },
  {
   "cell_type": "markdown",
   "metadata": {},
   "source": [
    "### Support Vector Machine "
   ]
  },
  {
   "cell_type": "code",
   "execution_count": 211,
   "metadata": {},
   "outputs": [],
   "source": [
    "from sklearn.svm import SVR"
   ]
  },
  {
   "cell_type": "code",
   "execution_count": 212,
   "metadata": {},
   "outputs": [],
   "source": [
    "# Inicializo el modelo\n",
    "regresor_svr = SVR(C=1.0, epsilon=0.2)"
   ]
  },
  {
   "cell_type": "code",
   "execution_count": 213,
   "metadata": {},
   "outputs": [
    {
     "ename": "ValueError",
     "evalue": "could not convert string to float: 'Renault Argentina'",
     "output_type": "error",
     "traceback": [
      "\u001b[1;31m---------------------------------------------------------------------------\u001b[0m",
      "\u001b[1;31mValueError\u001b[0m                                Traceback (most recent call last)",
      "\u001b[1;32mc:\\Users\\jvazquez1\\Desktop\\proyecto_data\\Ingenias_proyecto\\notebooks\\clasificacion.ipynb Cell 28\u001b[0m line \u001b[0;36m2\n\u001b[0;32m      <a href='vscode-notebook-cell:/c%3A/Users/jvazquez1/Desktop/proyecto_data/Ingenias_proyecto/notebooks/clasificacion.ipynb#Y101sZmlsZQ%3D%3D?line=0'>1</a>\u001b[0m \u001b[39m# Entreno el modelo\u001b[39;00m\n\u001b[1;32m----> <a href='vscode-notebook-cell:/c%3A/Users/jvazquez1/Desktop/proyecto_data/Ingenias_proyecto/notebooks/clasificacion.ipynb#Y101sZmlsZQ%3D%3D?line=1'>2</a>\u001b[0m regresor_svr\u001b[39m.\u001b[39;49mfit(X_train, y_train)\n",
      "File \u001b[1;32mc:\\Users\\jvazquez1\\AppData\\Local\\Programs\\Python\\Python312\\Lib\\site-packages\\sklearn\\base.py:1152\u001b[0m, in \u001b[0;36m_fit_context.<locals>.decorator.<locals>.wrapper\u001b[1;34m(estimator, *args, **kwargs)\u001b[0m\n\u001b[0;32m   1145\u001b[0m     estimator\u001b[39m.\u001b[39m_validate_params()\n\u001b[0;32m   1147\u001b[0m \u001b[39mwith\u001b[39;00m config_context(\n\u001b[0;32m   1148\u001b[0m     skip_parameter_validation\u001b[39m=\u001b[39m(\n\u001b[0;32m   1149\u001b[0m         prefer_skip_nested_validation \u001b[39mor\u001b[39;00m global_skip_validation\n\u001b[0;32m   1150\u001b[0m     )\n\u001b[0;32m   1151\u001b[0m ):\n\u001b[1;32m-> 1152\u001b[0m     \u001b[39mreturn\u001b[39;00m fit_method(estimator, \u001b[39m*\u001b[39;49margs, \u001b[39m*\u001b[39;49m\u001b[39m*\u001b[39;49mkwargs)\n",
      "File \u001b[1;32mc:\\Users\\jvazquez1\\AppData\\Local\\Programs\\Python\\Python312\\Lib\\site-packages\\sklearn\\svm\\_base.py:190\u001b[0m, in \u001b[0;36mBaseLibSVM.fit\u001b[1;34m(self, X, y, sample_weight)\u001b[0m\n\u001b[0;32m    188\u001b[0m     check_consistent_length(X, y)\n\u001b[0;32m    189\u001b[0m \u001b[39melse\u001b[39;00m:\n\u001b[1;32m--> 190\u001b[0m     X, y \u001b[39m=\u001b[39m \u001b[39mself\u001b[39;49m\u001b[39m.\u001b[39;49m_validate_data(\n\u001b[0;32m    191\u001b[0m         X,\n\u001b[0;32m    192\u001b[0m         y,\n\u001b[0;32m    193\u001b[0m         dtype\u001b[39m=\u001b[39;49mnp\u001b[39m.\u001b[39;49mfloat64,\n\u001b[0;32m    194\u001b[0m         order\u001b[39m=\u001b[39;49m\u001b[39m\"\u001b[39;49m\u001b[39mC\u001b[39;49m\u001b[39m\"\u001b[39;49m,\n\u001b[0;32m    195\u001b[0m         accept_sparse\u001b[39m=\u001b[39;49m\u001b[39m\"\u001b[39;49m\u001b[39mcsr\u001b[39;49m\u001b[39m\"\u001b[39;49m,\n\u001b[0;32m    196\u001b[0m         accept_large_sparse\u001b[39m=\u001b[39;49m\u001b[39mFalse\u001b[39;49;00m,\n\u001b[0;32m    197\u001b[0m     )\n\u001b[0;32m    199\u001b[0m y \u001b[39m=\u001b[39m \u001b[39mself\u001b[39m\u001b[39m.\u001b[39m_validate_targets(y)\n\u001b[0;32m    201\u001b[0m sample_weight \u001b[39m=\u001b[39m np\u001b[39m.\u001b[39masarray(\n\u001b[0;32m    202\u001b[0m     [] \u001b[39mif\u001b[39;00m sample_weight \u001b[39mis\u001b[39;00m \u001b[39mNone\u001b[39;00m \u001b[39melse\u001b[39;00m sample_weight, dtype\u001b[39m=\u001b[39mnp\u001b[39m.\u001b[39mfloat64\n\u001b[0;32m    203\u001b[0m )\n",
      "File \u001b[1;32mc:\\Users\\jvazquez1\\AppData\\Local\\Programs\\Python\\Python312\\Lib\\site-packages\\sklearn\\base.py:622\u001b[0m, in \u001b[0;36mBaseEstimator._validate_data\u001b[1;34m(self, X, y, reset, validate_separately, cast_to_ndarray, **check_params)\u001b[0m\n\u001b[0;32m    620\u001b[0m         y \u001b[39m=\u001b[39m check_array(y, input_name\u001b[39m=\u001b[39m\u001b[39m\"\u001b[39m\u001b[39my\u001b[39m\u001b[39m\"\u001b[39m, \u001b[39m*\u001b[39m\u001b[39m*\u001b[39mcheck_y_params)\n\u001b[0;32m    621\u001b[0m     \u001b[39melse\u001b[39;00m:\n\u001b[1;32m--> 622\u001b[0m         X, y \u001b[39m=\u001b[39m check_X_y(X, y, \u001b[39m*\u001b[39;49m\u001b[39m*\u001b[39;49mcheck_params)\n\u001b[0;32m    623\u001b[0m     out \u001b[39m=\u001b[39m X, y\n\u001b[0;32m    625\u001b[0m \u001b[39mif\u001b[39;00m \u001b[39mnot\u001b[39;00m no_val_X \u001b[39mand\u001b[39;00m check_params\u001b[39m.\u001b[39mget(\u001b[39m\"\u001b[39m\u001b[39mensure_2d\u001b[39m\u001b[39m\"\u001b[39m, \u001b[39mTrue\u001b[39;00m):\n",
      "File \u001b[1;32mc:\\Users\\jvazquez1\\AppData\\Local\\Programs\\Python\\Python312\\Lib\\site-packages\\sklearn\\utils\\validation.py:1146\u001b[0m, in \u001b[0;36mcheck_X_y\u001b[1;34m(X, y, accept_sparse, accept_large_sparse, dtype, order, copy, force_all_finite, ensure_2d, allow_nd, multi_output, ensure_min_samples, ensure_min_features, y_numeric, estimator)\u001b[0m\n\u001b[0;32m   1141\u001b[0m         estimator_name \u001b[39m=\u001b[39m _check_estimator_name(estimator)\n\u001b[0;32m   1142\u001b[0m     \u001b[39mraise\u001b[39;00m \u001b[39mValueError\u001b[39;00m(\n\u001b[0;32m   1143\u001b[0m         \u001b[39mf\u001b[39m\u001b[39m\"\u001b[39m\u001b[39m{\u001b[39;00mestimator_name\u001b[39m}\u001b[39;00m\u001b[39m requires y to be passed, but the target y is None\u001b[39m\u001b[39m\"\u001b[39m\n\u001b[0;32m   1144\u001b[0m     )\n\u001b[1;32m-> 1146\u001b[0m X \u001b[39m=\u001b[39m check_array(\n\u001b[0;32m   1147\u001b[0m     X,\n\u001b[0;32m   1148\u001b[0m     accept_sparse\u001b[39m=\u001b[39;49maccept_sparse,\n\u001b[0;32m   1149\u001b[0m     accept_large_sparse\u001b[39m=\u001b[39;49maccept_large_sparse,\n\u001b[0;32m   1150\u001b[0m     dtype\u001b[39m=\u001b[39;49mdtype,\n\u001b[0;32m   1151\u001b[0m     order\u001b[39m=\u001b[39;49morder,\n\u001b[0;32m   1152\u001b[0m     copy\u001b[39m=\u001b[39;49mcopy,\n\u001b[0;32m   1153\u001b[0m     force_all_finite\u001b[39m=\u001b[39;49mforce_all_finite,\n\u001b[0;32m   1154\u001b[0m     ensure_2d\u001b[39m=\u001b[39;49mensure_2d,\n\u001b[0;32m   1155\u001b[0m     allow_nd\u001b[39m=\u001b[39;49mallow_nd,\n\u001b[0;32m   1156\u001b[0m     ensure_min_samples\u001b[39m=\u001b[39;49mensure_min_samples,\n\u001b[0;32m   1157\u001b[0m     ensure_min_features\u001b[39m=\u001b[39;49mensure_min_features,\n\u001b[0;32m   1158\u001b[0m     estimator\u001b[39m=\u001b[39;49mestimator,\n\u001b[0;32m   1159\u001b[0m     input_name\u001b[39m=\u001b[39;49m\u001b[39m\"\u001b[39;49m\u001b[39mX\u001b[39;49m\u001b[39m\"\u001b[39;49m,\n\u001b[0;32m   1160\u001b[0m )\n\u001b[0;32m   1162\u001b[0m y \u001b[39m=\u001b[39m _check_y(y, multi_output\u001b[39m=\u001b[39mmulti_output, y_numeric\u001b[39m=\u001b[39my_numeric, estimator\u001b[39m=\u001b[39mestimator)\n\u001b[0;32m   1164\u001b[0m check_consistent_length(X, y)\n",
      "File \u001b[1;32mc:\\Users\\jvazquez1\\AppData\\Local\\Programs\\Python\\Python312\\Lib\\site-packages\\sklearn\\utils\\validation.py:915\u001b[0m, in \u001b[0;36mcheck_array\u001b[1;34m(array, accept_sparse, accept_large_sparse, dtype, order, copy, force_all_finite, ensure_2d, allow_nd, ensure_min_samples, ensure_min_features, estimator, input_name)\u001b[0m\n\u001b[0;32m    913\u001b[0m         array \u001b[39m=\u001b[39m xp\u001b[39m.\u001b[39mastype(array, dtype, copy\u001b[39m=\u001b[39m\u001b[39mFalse\u001b[39;00m)\n\u001b[0;32m    914\u001b[0m     \u001b[39melse\u001b[39;00m:\n\u001b[1;32m--> 915\u001b[0m         array \u001b[39m=\u001b[39m _asarray_with_order(array, order\u001b[39m=\u001b[39;49morder, dtype\u001b[39m=\u001b[39;49mdtype, xp\u001b[39m=\u001b[39;49mxp)\n\u001b[0;32m    916\u001b[0m \u001b[39mexcept\u001b[39;00m ComplexWarning \u001b[39mas\u001b[39;00m complex_warning:\n\u001b[0;32m    917\u001b[0m     \u001b[39mraise\u001b[39;00m \u001b[39mValueError\u001b[39;00m(\n\u001b[0;32m    918\u001b[0m         \u001b[39m\"\u001b[39m\u001b[39mComplex data not supported\u001b[39m\u001b[39m\\n\u001b[39;00m\u001b[39m{}\u001b[39;00m\u001b[39m\\n\u001b[39;00m\u001b[39m\"\u001b[39m\u001b[39m.\u001b[39mformat(array)\n\u001b[0;32m    919\u001b[0m     ) \u001b[39mfrom\u001b[39;00m \u001b[39mcomplex_warning\u001b[39;00m\n",
      "File \u001b[1;32mc:\\Users\\jvazquez1\\AppData\\Local\\Programs\\Python\\Python312\\Lib\\site-packages\\sklearn\\utils\\_array_api.py:380\u001b[0m, in \u001b[0;36m_asarray_with_order\u001b[1;34m(array, dtype, order, copy, xp)\u001b[0m\n\u001b[0;32m    378\u001b[0m     array \u001b[39m=\u001b[39m numpy\u001b[39m.\u001b[39marray(array, order\u001b[39m=\u001b[39morder, dtype\u001b[39m=\u001b[39mdtype)\n\u001b[0;32m    379\u001b[0m \u001b[39melse\u001b[39;00m:\n\u001b[1;32m--> 380\u001b[0m     array \u001b[39m=\u001b[39m numpy\u001b[39m.\u001b[39;49masarray(array, order\u001b[39m=\u001b[39;49morder, dtype\u001b[39m=\u001b[39;49mdtype)\n\u001b[0;32m    382\u001b[0m \u001b[39m# At this point array is a NumPy ndarray. We convert it to an array\u001b[39;00m\n\u001b[0;32m    383\u001b[0m \u001b[39m# container that is consistent with the input's namespace.\u001b[39;00m\n\u001b[0;32m    384\u001b[0m \u001b[39mreturn\u001b[39;00m xp\u001b[39m.\u001b[39masarray(array)\n",
      "\u001b[1;31mValueError\u001b[0m: could not convert string to float: 'Renault Argentina'"
     ]
    }
   ],
   "source": [
    "# Entreno el modelo\n",
    "regresor_svr.fit(X_train, y_train)"
   ]
  },
  {
   "cell_type": "code",
   "execution_count": 214,
   "metadata": {},
   "outputs": [
    {
     "data": {
      "text/plain": [
       "{'C': 1.0,\n",
       " 'cache_size': 200,\n",
       " 'coef0': 0.0,\n",
       " 'degree': 3,\n",
       " 'epsilon': 0.2,\n",
       " 'gamma': 'scale',\n",
       " 'kernel': 'rbf',\n",
       " 'max_iter': -1,\n",
       " 'shrinking': True,\n",
       " 'tol': 0.001,\n",
       " 'verbose': False}"
      ]
     },
     "execution_count": 214,
     "metadata": {},
     "output_type": "execute_result"
    }
   ],
   "source": [
    "regresor_svr.get_params()"
   ]
  },
  {
   "cell_type": "code",
   "execution_count": 215,
   "metadata": {},
   "outputs": [
    {
     "ename": "NotFittedError",
     "evalue": "This SVR instance is not fitted yet. Call 'fit' with appropriate arguments before using this estimator.",
     "output_type": "error",
     "traceback": [
      "\u001b[1;31m---------------------------------------------------------------------------\u001b[0m",
      "\u001b[1;31mNotFittedError\u001b[0m                            Traceback (most recent call last)",
      "\u001b[1;32mc:\\Users\\jvazquez1\\Desktop\\proyecto_data\\Ingenias_proyecto\\notebooks\\clasificacion.ipynb Cell 30\u001b[0m line \u001b[0;36m2\n\u001b[0;32m      <a href='vscode-notebook-cell:/c%3A/Users/jvazquez1/Desktop/proyecto_data/Ingenias_proyecto/notebooks/clasificacion.ipynb#Y103sZmlsZQ%3D%3D?line=0'>1</a>\u001b[0m \u001b[39m# Predigo los valores para el set de testeo\u001b[39;00m\n\u001b[1;32m----> <a href='vscode-notebook-cell:/c%3A/Users/jvazquez1/Desktop/proyecto_data/Ingenias_proyecto/notebooks/clasificacion.ipynb#Y103sZmlsZQ%3D%3D?line=1'>2</a>\u001b[0m y_pred_svr \u001b[39m=\u001b[39m regresor_svr\u001b[39m.\u001b[39;49mpredict(X_test)\n",
      "File \u001b[1;32mc:\\Users\\jvazquez1\\AppData\\Local\\Programs\\Python\\Python312\\Lib\\site-packages\\sklearn\\svm\\_base.py:431\u001b[0m, in \u001b[0;36mBaseLibSVM.predict\u001b[1;34m(self, X)\u001b[0m\n\u001b[0;32m    415\u001b[0m \u001b[39mdef\u001b[39;00m \u001b[39mpredict\u001b[39m(\u001b[39mself\u001b[39m, X):\n\u001b[0;32m    416\u001b[0m \u001b[39m    \u001b[39m\u001b[39m\"\"\"Perform regression on samples in X.\u001b[39;00m\n\u001b[0;32m    417\u001b[0m \n\u001b[0;32m    418\u001b[0m \u001b[39m    For an one-class model, +1 (inlier) or -1 (outlier) is returned.\u001b[39;00m\n\u001b[1;32m   (...)\u001b[0m\n\u001b[0;32m    429\u001b[0m \u001b[39m        The predicted values.\u001b[39;00m\n\u001b[0;32m    430\u001b[0m \u001b[39m    \"\"\"\u001b[39;00m\n\u001b[1;32m--> 431\u001b[0m     X \u001b[39m=\u001b[39m \u001b[39mself\u001b[39;49m\u001b[39m.\u001b[39;49m_validate_for_predict(X)\n\u001b[0;32m    432\u001b[0m     predict \u001b[39m=\u001b[39m \u001b[39mself\u001b[39m\u001b[39m.\u001b[39m_sparse_predict \u001b[39mif\u001b[39;00m \u001b[39mself\u001b[39m\u001b[39m.\u001b[39m_sparse \u001b[39melse\u001b[39;00m \u001b[39mself\u001b[39m\u001b[39m.\u001b[39m_dense_predict\n\u001b[0;32m    433\u001b[0m     \u001b[39mreturn\u001b[39;00m predict(X)\n",
      "File \u001b[1;32mc:\\Users\\jvazquez1\\AppData\\Local\\Programs\\Python\\Python312\\Lib\\site-packages\\sklearn\\svm\\_base.py:608\u001b[0m, in \u001b[0;36mBaseLibSVM._validate_for_predict\u001b[1;34m(self, X)\u001b[0m\n\u001b[0;32m    607\u001b[0m \u001b[39mdef\u001b[39;00m \u001b[39m_validate_for_predict\u001b[39m(\u001b[39mself\u001b[39m, X):\n\u001b[1;32m--> 608\u001b[0m     check_is_fitted(\u001b[39mself\u001b[39;49m)\n\u001b[0;32m    610\u001b[0m     \u001b[39mif\u001b[39;00m \u001b[39mnot\u001b[39;00m \u001b[39mcallable\u001b[39m(\u001b[39mself\u001b[39m\u001b[39m.\u001b[39mkernel):\n\u001b[0;32m    611\u001b[0m         X \u001b[39m=\u001b[39m \u001b[39mself\u001b[39m\u001b[39m.\u001b[39m_validate_data(\n\u001b[0;32m    612\u001b[0m             X,\n\u001b[0;32m    613\u001b[0m             accept_sparse\u001b[39m=\u001b[39m\u001b[39m\"\u001b[39m\u001b[39mcsr\u001b[39m\u001b[39m\"\u001b[39m,\n\u001b[1;32m   (...)\u001b[0m\n\u001b[0;32m    617\u001b[0m             reset\u001b[39m=\u001b[39m\u001b[39mFalse\u001b[39;00m,\n\u001b[0;32m    618\u001b[0m         )\n",
      "File \u001b[1;32mc:\\Users\\jvazquez1\\AppData\\Local\\Programs\\Python\\Python312\\Lib\\site-packages\\sklearn\\utils\\validation.py:1461\u001b[0m, in \u001b[0;36mcheck_is_fitted\u001b[1;34m(estimator, attributes, msg, all_or_any)\u001b[0m\n\u001b[0;32m   1458\u001b[0m     \u001b[39mraise\u001b[39;00m \u001b[39mTypeError\u001b[39;00m(\u001b[39m\"\u001b[39m\u001b[39m%s\u001b[39;00m\u001b[39m is not an estimator instance.\u001b[39m\u001b[39m\"\u001b[39m \u001b[39m%\u001b[39m (estimator))\n\u001b[0;32m   1460\u001b[0m \u001b[39mif\u001b[39;00m \u001b[39mnot\u001b[39;00m _is_fitted(estimator, attributes, all_or_any):\n\u001b[1;32m-> 1461\u001b[0m     \u001b[39mraise\u001b[39;00m NotFittedError(msg \u001b[39m%\u001b[39m {\u001b[39m\"\u001b[39m\u001b[39mname\u001b[39m\u001b[39m\"\u001b[39m: \u001b[39mtype\u001b[39m(estimator)\u001b[39m.\u001b[39m\u001b[39m__name__\u001b[39m})\n",
      "\u001b[1;31mNotFittedError\u001b[0m: This SVR instance is not fitted yet. Call 'fit' with appropriate arguments before using this estimator."
     ]
    }
   ],
   "source": [
    "# Predigo los valores para el set de testeo\n",
    "y_pred_svr = regresor_svr.predict(X_test)"
   ]
  },
  {
   "cell_type": "code",
   "execution_count": 216,
   "metadata": {},
   "outputs": [
    {
     "ename": "NameError",
     "evalue": "name 'y_pred_svr' is not defined",
     "output_type": "error",
     "traceback": [
      "\u001b[1;31m---------------------------------------------------------------------------\u001b[0m",
      "\u001b[1;31mNameError\u001b[0m                                 Traceback (most recent call last)",
      "\u001b[1;32mc:\\Users\\jvazquez1\\Desktop\\proyecto_data\\Ingenias_proyecto\\notebooks\\clasificacion.ipynb Cell 31\u001b[0m line \u001b[0;36m2\n\u001b[0;32m      <a href='vscode-notebook-cell:/c%3A/Users/jvazquez1/Desktop/proyecto_data/Ingenias_proyecto/notebooks/clasificacion.ipynb#Y104sZmlsZQ%3D%3D?line=0'>1</a>\u001b[0m \u001b[39m# Calculo el error medio absoluto\u001b[39;00m\n\u001b[1;32m----> <a href='vscode-notebook-cell:/c%3A/Users/jvazquez1/Desktop/proyecto_data/Ingenias_proyecto/notebooks/clasificacion.ipynb#Y104sZmlsZQ%3D%3D?line=1'>2</a>\u001b[0m mean_absolute_error(y_test, y_pred_svr)\n",
      "\u001b[1;31mNameError\u001b[0m: name 'y_pred_svr' is not defined"
     ]
    }
   ],
   "source": [
    "# Calculo el error medio absoluto\n",
    "mean_absolute_error(y_test, y_pred_svr)"
   ]
  }
 ],
 "metadata": {
  "kernelspec": {
   "display_name": "Python 3",
   "language": "python",
   "name": "python3"
  },
  "language_info": {
   "codemirror_mode": {
    "name": "ipython",
    "version": 3
   },
   "file_extension": ".py",
   "mimetype": "text/x-python",
   "name": "python",
   "nbconvert_exporter": "python",
   "pygments_lexer": "ipython3",
   "version": "3.12.0"
  }
 },
 "nbformat": 4,
 "nbformat_minor": 2
}
