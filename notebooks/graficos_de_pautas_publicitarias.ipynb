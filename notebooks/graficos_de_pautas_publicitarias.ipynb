{
 "cells": [
  {
   "cell_type": "markdown",
   "id": "5c3b40a0",
   "metadata": {},
   "source": [
    "# Graficos de datos de Pautas Publicitarias"
   ]
  },
  {
   "cell_type": "code",
   "execution_count": 1,
   "id": "a5f9c157",
   "metadata": {},
   "outputs": [],
   "source": [
    "#Importamos las librerías necesarias\n",
    "import pandas as pd\n",
    "import numpy as np\n",
    "import matplotlib.pyplot as plt\n",
    "import seaborn as sns\n",
    "from scipy import stats"
   ]
  },
  {
   "cell_type": "code",
   "execution_count": 2,
   "id": "28fa9436",
   "metadata": {},
   "outputs": [],
   "source": [
    "pp = pd.read_csv('C:\\\\Users\\\\jvazquez1\\\\Desktop\\\\Ingenias_proyecto2\\\\Ingenias_proyecto\\\\datos\\\\pautas_publicitarias_limpio.csv', low_memory=False)"
   ]
  },
  {
   "cell_type": "code",
   "execution_count": null,
   "id": "04a84f39",
   "metadata": {},
   "outputs": [],
   "source": []
  }
 ],
 "metadata": {
  "kernelspec": {
   "display_name": "Python 3 (ipykernel)",
   "language": "python",
   "name": "python3"
  },
  "language_info": {
   "codemirror_mode": {
    "name": "ipython",
    "version": 3
   },
   "file_extension": ".py",
   "mimetype": "text/x-python",
   "name": "python",
   "nbconvert_exporter": "python",
   "pygments_lexer": "ipython3",
   "version": "3.11.5"
  }
 },
 "nbformat": 4,
 "nbformat_minor": 5
}
